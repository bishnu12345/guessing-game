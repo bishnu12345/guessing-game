{
 "cells": [
  {
   "cell_type": "code",
   "execution_count": null,
   "metadata": {},
   "outputs": [
    {
     "name": "stdout",
     "output_type": "stream",
     "text": [
      "Enter your guess: 3\n",
      "You've guessed too low. Try guessing higher.\n"
     ]
    }
   ],
   "source": [
    "\n",
    "\n",
    "import random\n",
    "\n",
    "correct = random.randint(1, 10)\n",
    "\n",
    "guess = input(\"Enter your guess which you want : \")\n",
    "guess = int(guess)\n",
    "while guess != correct:\n",
    "\n",
    "    if guess > correct:\n",
    "\n",
    "        print(\"You've guessed too high. Try guessing lower.\")\n",
    "\n",
    "    else:\n",
    "\n",
    "        print(\"You've guessed too low. Try guessing higher.\")\n",
    "    guess = int(input(\"Enter your guess: \"))\n",
    "print(\"Congratulations! You've guessed correctly.\")\n"
   ]
  },
  {
   "cell_type": "code",
   "execution_count": null,
   "metadata": {},
   "outputs": [],
   "source": []
  }
 ],
 "metadata": {
  "kernelspec": {
   "display_name": "Python 3",
   "language": "python",
   "name": "python3"
  }
 },
 "nbformat": 4,
 "nbformat_minor": 2
}
